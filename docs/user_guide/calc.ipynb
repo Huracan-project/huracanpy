{
 "cells": [
  {
   "cell_type": "markdown",
   "id": "480ac4cf-d3a1-4dda-acf9-3ea661cb7443",
   "metadata": {},
   "source": [
    "# `calc`"
   ]
  },
  {
   "cell_type": "code",
   "execution_count": null,
   "id": "5e58b5d7-29cd-43e9-bf77-9ab368a04466",
   "metadata": {},
   "outputs": [],
   "source": []
  }
 ],
 "metadata": {
  "kernelspec": {
   "display_name": "Python 3 (ipykernel)",
   "language": "python",
   "name": "python3"
  },
  "language_info": {
   "codemirror_mode": {
    "name": "ipython",
    "version": 3
   },
   "file_extension": ".py",
   "mimetype": "text/x-python",
   "name": "python",
   "nbconvert_exporter": "python",
   "pygments_lexer": "ipython3",
   "version": "3.11.10"
  }
 },
 "nbformat": 4,
 "nbformat_minor": 5
}
