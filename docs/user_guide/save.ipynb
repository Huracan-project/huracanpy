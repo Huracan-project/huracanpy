{
 "cells": [
  {
   "cell_type": "markdown",
   "id": "9ecdf569-bb65-49ce-b269-00a8f6b2ec2a",
   "metadata": {},
   "source": [
    "# Saving tracks with `huracanpy.save`\n",
    "\n",
    "`huracanpy.save` supports saving data as CSV or NetCDF which is detected by the file\n",
    "extension.\n",
    "\n",
    "You can also use\n",
    "[xarray.Dataset.to_netcdf](https://docs.xarray.dev/en/latest/generated/xarray.Dataset.to_netcdf.html)\n",
    "to save NetCDF files, but they must then be loaded with\n",
    "[xarray.open_dataset](https://docs.xarray.dev/en/latest/generated/xarray.open_dataset.html)\n",
    "`huracanpy.save` does call `to_netcdf` but also has some additional steps to make sure\n",
    "the resulting NetCDF file uses the CF convention used for loading."
   ]
  },
  {
   "cell_type": "code",
   "execution_count": null,
   "id": "8f266e10-e812-4bfb-8e1d-7d8dc4baccbc",
   "metadata": {},
   "outputs": [],
   "source": [
    "import huracanpy\n",
    "tracks = huracanpy.load(huracanpy.example_csv_file)\n",
    "huracanpy.save(tracks, \"saved_data.csv\")\n",
    "huracanpy.save(tracks, \"saved_data.nc\")"
   ]
  },
  {
   "cell_type": "code",
   "execution_count": null,
   "id": "c1bd9515-350b-4fc9-a500-0e773a010166",
   "metadata": {},
   "outputs": [],
   "source": [
    "!head -5 saved_data.csv"
   ]
  },
  {
   "cell_type": "code",
   "execution_count": null,
   "id": "067762db-e444-45a5-8bb8-e35cda01f3a8",
   "metadata": {},
   "outputs": [],
   "source": [
    "!ncdump -h saved_data.nc"
   ]
  }
 ],
 "metadata": {
  "kernelspec": {
   "display_name": "Python 3 (ipykernel)",
   "language": "python",
   "name": "python3"
  },
  "language_info": {
   "codemirror_mode": {
    "name": "ipython",
    "version": 3
   },
   "file_extension": ".py",
   "mimetype": "text/x-python",
   "name": "python",
   "nbconvert_exporter": "python",
   "pygments_lexer": "ipython3",
   "version": "3.11.10"
  }
 },
 "nbformat": 4,
 "nbformat_minor": 5
}
