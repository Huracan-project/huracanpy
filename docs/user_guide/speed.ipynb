{
 "cells": [
  {
   "cell_type": "markdown",
   "id": "67bd7c06-cd91-4a03-b942-922a77dcb0a5",
   "metadata": {},
   "source": [
    "# Tips to speed up your code"
   ]
  },
  {
   "cell_type": "code",
   "execution_count": null,
   "id": "3f5b85dc-4eb7-45db-933b-bb42414cab25",
   "metadata": {},
   "outputs": [],
   "source": []
  }
 ],
 "metadata": {
  "kernelspec": {
   "display_name": "Python 3 (ipykernel)",
   "language": "python",
   "name": "python3"
  },
  "language_info": {
   "codemirror_mode": {
    "name": "ipython",
    "version": 3
   },
   "file_extension": ".py",
   "mimetype": "text/x-python",
   "name": "python",
   "nbconvert_exporter": "python",
   "pygments_lexer": "ipython3",
   "version": "3.11.10"
  }
 },
 "nbformat": 4,
 "nbformat_minor": 5
}
