{
 "cells": [
  {
   "cell_type": "markdown",
   "id": "67bd7c06-cd91-4a03-b942-922a77dcb0a5",
   "metadata": {},
   "source": [
    "# Tips to speed up your code"
   ]
  },
  {
   "cell_type": "markdown",
   "id": "6108b5af-5f2b-4343-80de-888614cc84f4",
   "metadata": {},
   "source": [
    "## Faster subsetting"
   ]
  },
  {
   "cell_type": "markdown",
   "id": "afc88337-ec5b-4b08-ac86-52a34f781796",
   "metadata": {},
   "source": [
    "### isel/sel vs where"
   ]
  },
  {
   "cell_type": "markdown",
   "id": "f4812506-7c54-46c4-81a7-78f191546a69",
   "metadata": {},
   "source": [
    "### groupby"
   ]
  },
  {
   "cell_type": "markdown",
   "id": "29e4d352-079f-4c3f-baee-9572dffb970f",
   "metadata": {},
   "source": [
    "#### gen_vals and apex_vals"
   ]
  },
  {
   "cell_type": "markdown",
   "id": "e8f5e323-dd28-4f04-803b-607ee4a571e0",
   "metadata": {},
   "source": [
    "#### Custom groupby"
   ]
  },
  {
   "cell_type": "markdown",
   "id": "2032134b-6822-43a5-9a69-6ff98090a6d1",
   "metadata": {},
   "source": [
    "## Saving netCDFs"
   ]
  },
  {
   "cell_type": "markdown",
   "id": "515b8f4c-cc39-427c-8d14-e624ccc8e253",
   "metadata": {},
   "source": []
  }
 ],
 "metadata": {
  "kernelspec": {
   "display_name": "Python 3 (ipykernel)",
   "language": "python",
   "name": "python3"
  },
  "language_info": {
   "codemirror_mode": {
    "name": "ipython",
    "version": 3
   },
   "file_extension": ".py",
   "mimetype": "text/x-python",
   "name": "python",
   "nbconvert_exporter": "python",
   "pygments_lexer": "ipython3",
   "version": "3.11.10"
  }
 },
 "nbformat": 4,
 "nbformat_minor": 5
}
