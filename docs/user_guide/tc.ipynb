{
 "cells": [
  {
   "cell_type": "markdown",
   "id": "a0954acd-e73a-46cb-baad-fae9997cbb6d",
   "metadata": {},
   "source": [
    "# Tropical Cyclone specific functions"
   ]
  },
  {
   "cell_type": "code",
   "execution_count": null,
   "id": "8ca57081-55fc-43af-8de1-1f5fd879b263",
   "metadata": {},
   "outputs": [],
   "source": []
  }
 ],
 "metadata": {
  "kernelspec": {
   "display_name": "Python 3 (ipykernel)",
   "language": "python",
   "name": "python3"
  },
  "language_info": {
   "codemirror_mode": {
    "name": "ipython",
    "version": 3
   },
   "file_extension": ".py",
   "mimetype": "text/x-python",
   "name": "python",
   "nbconvert_exporter": "python",
   "pygments_lexer": "ipython3",
   "version": "3.11.10"
  }
 },
 "nbformat": 4,
 "nbformat_minor": 5
}
