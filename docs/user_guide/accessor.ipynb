{
 "cells": [
  {
   "cell_type": "markdown",
   "id": "c3db0b46-63fc-4abb-a900-bbeb4678e0ea",
   "metadata": {},
   "source": [
    "# HuracanPy's `hrcn` Accessor"
   ]
  },
  {
   "cell_type": "code",
   "execution_count": null,
   "id": "cffa70d6-52c2-474c-86f0-652b206f9bc4",
   "metadata": {},
   "outputs": [],
   "source": []
  }
 ],
 "metadata": {
  "kernelspec": {
   "display_name": "Python 3 (ipykernel)",
   "language": "python",
   "name": "python3"
  },
  "language_info": {
   "codemirror_mode": {
    "name": "ipython",
    "version": 3
   },
   "file_extension": ".py",
   "mimetype": "text/x-python",
   "name": "python",
   "nbconvert_exporter": "python",
   "pygments_lexer": "ipython3",
   "version": "3.11.10"
  }
 },
 "nbformat": 4,
 "nbformat_minor": 5
}
