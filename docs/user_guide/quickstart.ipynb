{
 "cells": [
  {
   "cell_type": "markdown",
   "id": "2b7bbca4-2c58-493c-9f08-4e5a8bc53d08",
   "metadata": {},
   "source": [
    "# Getting Started\n",
    "## Package Structure\n",
    "HuracanPy provides a standard way for working with cyclone track data from different sources and has several modules that allow you to:\n",
    "- Load, subset, interpolate, and save cyclone tracks ([huracanpy](../api/huracanpy.rst));\n",
    "- Add information to your tracks ([huracanpy.info](../api/info.rst));\n",
    "- Compute standard diagnostic metrics ([huracanpy.calc](../api/calc.rst));\n",
    "- Compute tropical-cyclone specific metrics ([huracanpy.tc](../api/tc.rst));\n",
    "- Make simple plots ([huracanpy.plot](../api/plot.rst));\n",
    "- Compare several datasets between them ([huracanpy.assess](../api/assess.rst)).\n",
    "\n",
    "The flowchart below illustrates this structure. The functions in each module are listed in the ([API](../api/index.rst)).\n",
    "\n",
    "![](../images/package_structure_flowchart/flowchart.png)\n"
   ]
  },
  {
   "cell_type": "markdown",
   "id": "36c7416c-854a-43ca-b373-4de8fd3e16cb",
   "metadata": {
    "editable": true,
    "slideshow": {
     "slide_type": ""
    },
    "tags": []
   },
   "source": [
    "## Opening files\n",
    "The first step is to load in some tracks. HuracanPy can load track data from various sources as an [xarray.Dataset](https://docs.xarray.dev/en/stable/generated/xarray.Dataset.html) with a minimal number of assumed variables (track_id, lon, lat, time) e.g."
   ]
  },
  {
   "cell_type": "code",
   "execution_count": null,
   "id": "5b1565ee-4e86-4053-ad73-0a7557b3e6cd",
   "metadata": {},
   "outputs": [],
   "source": [
    "import huracanpy\n",
    "\n",
    "tracks = huracanpy.load(huracanpy.example_csv_file)\n",
    "print(tracks)"
   ]
  },
  {
   "cell_type": "markdown",
   "id": "e2becf5e-9b2b-4c61-a193-901e90e7815b",
   "metadata": {},
   "source": [
    "Each \"record\" corresponds to a TC point (time, lon, lat).\n",
    "\n",
    "Note that the data is one dimensional but represents multiple tracks.\n",
    "This is done rather than having track_id as an additional dimension to avoid having to add blank data to each track when they are not the same length.\n",
    "The `groupby` function, built in to xarray, allows us to easily loop over or index tracks in this format."
   ]
  },
  {
   "cell_type": "code",
   "execution_count": null,
   "id": "960e9a7d-0cf2-4797-a297-c048eb739327",
   "metadata": {},
   "outputs": [],
   "source": [
    "import huracanpy\n",
    "\n",
    "tracks = huracanpy.load(huracanpy.example_csv_file)\n",
    "\n",
    "track_groups = tracks.groupby(\"track_id\")\n",
    "\n",
    "# Selecting track by ID\n",
    "# The track_id is not necessarily an integer, it follows whatever you have loaded\n",
    "# e.g. could be a string for IBTrACS\n",
    "track_id1 = track_groups[1]\n",
    "\n",
    "# Iterating over all tracks\n",
    "# Each track will be a subset of the xarray Dataset with a unique track_id\n",
    "for n, track in track_groups:\n",
    "    # Do something with the track\n",
    "    print(track)"
   ]
  }
 ],
 "metadata": {
  "kernelspec": {
   "display_name": "Python 3 (ipykernel)",
   "language": "python",
   "name": "python3"
  },
  "language_info": {
   "codemirror_mode": {
    "name": "ipython",
    "version": 3
   },
   "file_extension": ".py",
   "mimetype": "text/x-python",
   "name": "python",
   "nbconvert_exporter": "python",
   "pygments_lexer": "ipython3",
   "version": "3.12.4"
  }
 },
 "nbformat": 4,
 "nbformat_minor": 5
}
