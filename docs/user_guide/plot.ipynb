{
 "cells": [
  {
   "cell_type": "markdown",
   "id": "e5e33a17-4c1f-4073-9632-94a21f47537d",
   "metadata": {},
   "source": [
    "# `plot`"
   ]
  },
  {
   "cell_type": "code",
   "execution_count": null,
   "id": "ce60eceb-8aa0-4113-a366-88a492c5d171",
   "metadata": {},
   "outputs": [],
   "source": []
  }
 ],
 "metadata": {
  "kernelspec": {
   "display_name": "Python 3 (ipykernel)",
   "language": "python",
   "name": "python3"
  },
  "language_info": {
   "codemirror_mode": {
    "name": "ipython",
    "version": 3
   },
   "file_extension": ".py",
   "mimetype": "text/x-python",
   "name": "python",
   "nbconvert_exporter": "python",
   "pygments_lexer": "ipython3",
   "version": "3.11.10"
  }
 },
 "nbformat": 4,
 "nbformat_minor": 5
}
