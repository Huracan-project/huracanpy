{
 "cells": [
  {
   "cell_type": "markdown",
   "id": "ade0d15b-68d9-423f-9ad0-95a76371c941",
   "metadata": {},
   "source": [
    "# Add info to your tracks"
   ]
  },
  {
   "cell_type": "code",
   "execution_count": null,
   "id": "a66d2c06-697e-45d4-90dc-4f0cf7505bdc",
   "metadata": {},
   "outputs": [],
   "source": []
  }
 ],
 "metadata": {
  "kernelspec": {
   "display_name": "Python 3 (ipykernel)",
   "language": "python",
   "name": "python3"
  },
  "language_info": {
   "codemirror_mode": {
    "name": "ipython",
    "version": 3
   },
   "file_extension": ".py",
   "mimetype": "text/x-python",
   "name": "python",
   "nbconvert_exporter": "python",
   "pygments_lexer": "ipython3",
   "version": "3.11.10"
  }
 },
 "nbformat": 4,
 "nbformat_minor": 5
}
