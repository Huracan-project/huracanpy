{
 "cells": [
  {
   "cell_type": "markdown",
   "id": "ade0d15b-68d9-423f-9ad0-95a76371c941",
   "metadata": {},
   "source": [
    "# Add info to your tracks"
   ]
  },
  {
   "cell_type": "markdown",
   "id": "c346e4df-4241-42e3-a022-9b5ca71fbe9b",
   "metadata": {},
   "source": [
    "The `info` module contains function that help you add metadata to your tracks. In particular, it helps adding information related to geography, time and category. \n",
    "\n",
    "All of `info` functions return xarray.DataArray objects, with a record the same length as the input data."
   ]
  },
  {
   "cell_type": "code",
   "execution_count": null,
   "id": "88b23cc5-bbe2-4b51-8b28-fbab4601516b",
   "metadata": {},
   "outputs": [],
   "source": [
    "import huracanpy\n",
    "\n",
    "# Load sample data to illustrate\n",
    "data = huracanpy.load(huracanpy.example_year_file)"
   ]
  },
  {
   "cell_type": "markdown",
   "id": "6fa95768-0348-4637-bc48-f476d44d2333",
   "metadata": {},
   "source": [
    "## Functions versus accessor methods\n",
    "\n",
    "All of `info` functions have accessor `get_` and `add_` counterparts. It means you can call them with `dataset.hrcn.get_x(varnames)`, and you can add the result to the dataset directly. This is illustrated below"
   ]
  },
  {
   "cell_type": "code",
   "execution_count": null,
   "id": "e608224a-517f-4068-9179-09cc2ba8063a",
   "metadata": {},
   "outputs": [],
   "source": [
    "# Get the info: Two equvalent ways\n",
    "huracanpy.info.get_hemisphere(data.lat)  # Function call\n",
    "data.hrcn.get_hemisphere(lat_name=\"lat\")  # Accessor method"
   ]
  },
  {
   "cell_type": "code",
   "execution_count": null,
   "id": "89da1ae3-9521-4429-aeed-6f6a8809f00c",
   "metadata": {},
   "outputs": [],
   "source": [
    "# Add the info: Two equvalent ways\n",
    "data[\"hemisphere\"] = huracanpy.info.get_hemisphere(data.lat)\n",
    "data = data.hrcn.add_hemisphere(lat_name=\"lat\")\n",
    "\n",
    "data  # data now includes hemisphere"
   ]
  },
  {
   "cell_type": "markdown",
   "id": "c70c2065-b569-4643-951d-c4e81c81904e",
   "metadata": {},
   "source": [
    "## Geography\n",
    "In terms of geographic information, huracanpy allows to add hemisphere, basin, land-or-ocean, continent and country."
   ]
  },
  {
   "cell_type": "code",
   "execution_count": null,
   "id": "ddc6cbd5-51cf-4a71-ae0a-6c44f9a14e05",
   "metadata": {},
   "outputs": [],
   "source": [
    "# Hemisphere\n",
    "huracanpy.info.get_hemisphere(data.lat)  # Function\n",
    "data.hrcn.get_hemisphere(\"lat\")  # Accessor method"
   ]
  },
  {
   "cell_type": "code",
   "execution_count": null,
   "id": "12938a41-16e9-4af3-a46c-8ac86057966a",
   "metadata": {},
   "outputs": [],
   "source": [
    "# Basin\n",
    "huracanpy.info.get_basin(data.lon, data.lat)  # Function\n",
    "data.hrcn.get_basin(\"lon\", \"lat\")  # Accessor method"
   ]
  },
  {
   "cell_type": "code",
   "execution_count": null,
   "id": "7e922e89-f926-4ccd-a38d-7742625e53bb",
   "metadata": {},
   "outputs": [],
   "source": [
    "# land or ocean\n",
    "huracanpy.info.get_land_or_ocean(data.lon, data.lat)  # Function\n",
    "data.hrcn.get_land_or_ocean(\"lon\", \"lat\")  # Accessor method"
   ]
  },
  {
   "cell_type": "code",
   "execution_count": null,
   "id": "c1296136-53fb-492a-9a76-827ebdd6739e",
   "metadata": {},
   "outputs": [],
   "source": [
    "# Continent: If track is over land, return the corresponding continent, else ''\n",
    "huracanpy.info.get_continent(data.lon, data.lat)  # Function\n",
    "data.hrcn.get_continent(\"lon\", \"lat\")  # Accessor method"
   ]
  },
  {
   "cell_type": "code",
   "execution_count": null,
   "id": "aba02d62-8c64-4eeb-9809-094769d88d01",
   "metadata": {},
   "outputs": [],
   "source": [
    "# Country: If track is over land, return the corresponding country, else ''\n",
    "huracanpy.info.get_country(data.lon, data.lat)  # Function\n",
    "data.hrcn.get_country(\"lon\", \"lat\")  # Accessor method"
   ]
  },
  {
   "cell_type": "markdown",
   "id": "cbe1e1bf-b419-4c3d-a33e-c1367d64e4db",
   "metadata": {},
   "source": [
    "## Time\n",
    "`get_time_components` allows to decompose the time variable into its components."
   ]
  },
  {
   "cell_type": "code",
   "execution_count": null,
   "id": "7b2da1a7-36a8-4090-812c-8079ea0fb02f",
   "metadata": {},
   "outputs": [],
   "source": [
    "# Get the values\n",
    "huracanpy.info.get_time_components(data.time)  # Function\n",
    "data.hrcn.get_time_components(\"time\")  # Accessor method"
   ]
  },
  {
   "cell_type": "code",
   "execution_count": null,
   "id": "501a35b1-de27-48a9-88e8-0cfc396af72a",
   "metadata": {},
   "outputs": [],
   "source": [
    "# Add them\n",
    "data[\"year\"], data[\"month\"], data[\"day\"], data[\"hour\"] = (\n",
    "    huracanpy.info.get_time_components(data.time)\n",
    ")\n",
    "data = data.hrcn.add_time_components(\"time\")\n",
    "\n",
    "data  # Now contains year, month, day, hour"
   ]
  },
  {
   "cell_type": "markdown",
   "id": "b29f4ffc-7daa-4468-aac3-368c3b2039e3",
   "metadata": {},
   "source": [
    "## Category\n",
    "\n",
    "With `get_category` you can add category labels based on bins of a given variable."
   ]
  },
  {
   "cell_type": "code",
   "execution_count": null,
   "id": "ba627be6-6378-4eb9-b9a9-4abe24534537",
   "metadata": {},
   "outputs": [],
   "source": [
    "huracanpy.info.get_category(data.wind10, bins=[0, 10, 20, 30, 40], labels=[0, 1, 2, 3])"
   ]
  }
 ],
 "metadata": {
  "kernelspec": {
   "display_name": "Python 3 (ipykernel)",
   "language": "python",
   "name": "python3"
  },
  "language_info": {
   "codemirror_mode": {
    "name": "ipython",
    "version": 3
   },
   "file_extension": ".py",
   "mimetype": "text/x-python",
   "name": "python",
   "nbconvert_exporter": "python",
   "pygments_lexer": "ipython3",
   "version": "3.11.10"
  }
 },
 "nbformat": 4,
 "nbformat_minor": 5
}
