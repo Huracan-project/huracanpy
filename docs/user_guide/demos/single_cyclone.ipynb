{
 "cells": [
  {
   "cell_type": "markdown",
   "id": "e8ec02c1-fd58-46b6-9211-e3ac1b36a2fd",
   "metadata": {},
   "source": [
    "# Studying a specific cyclone\n",
    "In this example, we want to study hurricane Wilma (the deepest Atlantic hurricane on record)."
   ]
  },
  {
   "cell_type": "code",
   "execution_count": null,
   "id": "98f00647-d338-4bea-b551-511758fa39c2",
   "metadata": {},
   "outputs": [],
   "source": [
    "import huracanpy\n",
    "import matplotlib.pyplot as plt"
   ]
  },
  {
   "cell_type": "markdown",
   "id": "b458a5ab-e8dc-4a94-9a9d-51078981e617",
   "metadata": {},
   "source": [
    "## Load IBTrACS and subset the specific hurricane\n",
    "Two subsets of IBTrACS are embedded within HuracanPy: WMO and JTWC.\n",
    "You can also retrieve the full and last IBTrACS file from the online website.\n",
    "Default behavior is loading the embedded WMO subset. For more information, see [huracanpy.load guide](../load.ipynb)."
   ]
  },
  {
   "cell_type": "code",
   "execution_count": null,
   "id": "999c3ab4-a444-4b4a-bbe6-c36c9b19fade",
   "metadata": {},
   "outputs": [],
   "source": [
    "# Here we load the WMO subset. This raises a warning that reminds you of the main\n",
    "# caveats.\n",
    "ib = huracanpy.load(source=\"ibtracs\")\n",
    "# The tracks are loaded as an xarray.Dataset, with one dimension \"record\" corresponding\n",
    "# to each point.\n",
    "# Variables indicate position in space and time, as well as additional attributes such\n",
    "# as maximum wind speed and minimum slp.\n",
    "ib"
   ]
  },
  {
   "cell_type": "code",
   "execution_count": null,
   "id": "faf70c53-ce52-4bf1-8b02-7e263d05751d",
   "metadata": {},
   "outputs": [],
   "source": [
    "# Wilma corresponds to index 2005289N18282, so we subset this storm. There are two ways\n",
    "# of doing this:\n",
    "# 1. Use warray's where\n",
    "Wilma = ib.where(ib.track_id == \"2005289N18282\", drop=True)\n",
    "# 2. Use huracanpy's sel_id method (more efficient and shorter, but does the same thing)\n",
    "# Note: the `.hrcn` is called an accessor, and allows you to call HuracanPy functions as\n",
    "# methods on the xarray objects.\n",
    "Wilma = ib.hrcn.sel_id(\"2005289N18282\")\n",
    "# The Wilma object contains only the data for Wilma:\n",
    "Wilma"
   ]
  },
  {
   "cell_type": "markdown",
   "id": "ee08d4f1-e18f-4820-810d-0005b92f9105",
   "metadata": {},
   "source": [
    "## Add category info\n",
    "You can add the Saffir-Simpson and/or the pressure category of Wilma to the tracks (for full list of available info, see [huracanpy.info](../../api/info.rst))."
   ]
  },
  {
   "cell_type": "code",
   "execution_count": null,
   "id": "99f5e05f-77f1-48af-85e4-e4dbeea3ea7c",
   "metadata": {},
   "outputs": [],
   "source": [
    "# Add Saffir-Simpson Category\n",
    "Wilma = Wilma.hrcn.add_saffir_simpson_category(wind_name=\"wind\", wind_units=\"knots\")\n",
    "# This is stored in the `saffir_simpson_category` variable\n",
    "Wilma.saffir_simpson_category"
   ]
  },
  {
   "cell_type": "code",
   "execution_count": null,
   "id": "59c13d3d-bdaf-4f32-a2b8-e9fb9912c7a8",
   "metadata": {},
   "outputs": [],
   "source": [
    "# Add pressure category\n",
    "Wilma = Wilma.hrcn.add_pressure_category(slp_name=\"slp\")\n",
    "Wilma.pressure_category"
   ]
  },
  {
   "cell_type": "code",
   "execution_count": null,
   "id": "f8e42735-daac-4a59-9d3e-92db5a6b46e5",
   "metadata": {},
   "outputs": [],
   "source": [
    "# Note: Most of the accessor methods have a get_* and an add_* version.\n",
    "# get_ return the values of what you ask for as a DataArray, while add_ adds it directly\n",
    "# to the dataset with a default name.\n",
    "# In the previous case, we could have called get_pressure_category\n",
    "Wilma.hrcn.get_pressure_category(slp_name=\"slp\")\n",
    "# we could then save it as a variable, and potentially add it to the dataset separately"
   ]
  },
  {
   "cell_type": "markdown",
   "id": "58a151fe-4f12-48f9-8f7b-92e8e3eda692",
   "metadata": {},
   "source": [
    "## Plot the track and its evolution"
   ]
  },
  {
   "cell_type": "code",
   "execution_count": null,
   "id": "f3a5cca2-4899-487e-abea-1244ea1aa4b2",
   "metadata": {},
   "outputs": [],
   "source": [
    "# Plot the track on a map, colored by Saffir-Simpson category\n",
    "Wilma.hrcn.plot_tracks(\n",
    "    intensity_var_name=\"saffir_simpson_category\", scatter_kws={\"palette\": \"turbo\"}\n",
    ")"
   ]
  },
  {
   "cell_type": "code",
   "execution_count": null,
   "id": "318f54d6-f974-4ca1-8876-1b46978a0043",
   "metadata": {},
   "outputs": [],
   "source": [
    "# Plot intensity time series using matplotlib\n",
    "fig, axs = plt.subplots(2, sharex=True)\n",
    "axs[0].plot(Wilma.time, Wilma.wind)\n",
    "axs[1].plot(Wilma.time, Wilma.slp)\n",
    "axs[0].set_ylabel(\"Wind / kn\")\n",
    "axs[1].set_ylabel(\"SLP / hPa\")"
   ]
  },
  {
   "cell_type": "markdown",
   "id": "997d6782-d0ea-4274-98d9-bd1930a259c4",
   "metadata": {},
   "source": [
    "## Calculate properties "
   ]
  },
  {
   "cell_type": "markdown",
   "id": "fcdec2df-6d47-4b3c-9c94-ee6d7237694c",
   "metadata": {},
   "source": [
    "### Duration"
   ]
  },
  {
   "cell_type": "code",
   "execution_count": null,
   "id": "fe2d0d35-2782-4080-b0e9-acc67a3c5d70",
   "metadata": {},
   "outputs": [],
   "source": [
    "Wilma.hrcn.get_track_duration()  # Note duration is in h"
   ]
  },
  {
   "cell_type": "markdown",
   "id": "98b4cd18-d260-491b-96ed-061991d1c141",
   "metadata": {},
   "source": [
    "### ACE"
   ]
  },
  {
   "cell_type": "code",
   "execution_count": null,
   "id": "60aafd0b-1f7f-46e2-bdec-933c44d60863",
   "metadata": {},
   "outputs": [],
   "source": [
    "## Compute ACE for each point\n",
    "Wilma = Wilma.hrcn.add_ace(wind_units=\"knots\")\n",
    "Wilma.ace"
   ]
  },
  {
   "cell_type": "code",
   "execution_count": null,
   "id": "b06d515b-c77c-4296-81d3-28e86ec38816",
   "metadata": {},
   "outputs": [],
   "source": [
    "## Plot cumulated ACE\n",
    "plt.plot(Wilma.time, Wilma.ace.cumsum())"
   ]
  },
  {
   "cell_type": "markdown",
   "id": "0362378e-149e-4e02-975a-7e123399ff51",
   "metadata": {},
   "source": [
    "### Translation speed"
   ]
  },
  {
   "cell_type": "code",
   "execution_count": null,
   "id": "dcf8bcc5-2059-4aa7-8efc-94f52a8a1144",
   "metadata": {},
   "outputs": [],
   "source": [
    "# Compute translation speed\n",
    "Wilma = Wilma.hrcn.add_translation_speed()\n",
    "# Plot translation speed against latitude\n",
    "plt.plot(Wilma.lat, Wilma.translation_speed)\n",
    "plt.xlabel(\"Latitude / °\")\n",
    "plt.ylabel(\"Translation speed / m/s\")"
   ]
  },
  {
   "cell_type": "markdown",
   "id": "4eee8b7e-7b71-4528-b411-4b91db62ead5",
   "metadata": {},
   "source": [
    "### Intensification rate"
   ]
  },
  {
   "cell_type": "code",
   "execution_count": null,
   "id": "0ea0f5ef-d7f4-4a69-b37e-b7a437713c79",
   "metadata": {},
   "outputs": [],
   "source": [
    "# Add intensification rate in wind and pressure\n",
    "Wilma = Wilma.hrcn.add_rate(var_name=\"wind\")\n",
    "Wilma = Wilma.hrcn.add_rate(var_name=\"slp\")\n",
    "# NB: The rates will be in unit/s, where unit is the unit of the variable."
   ]
  },
  {
   "cell_type": "code",
   "execution_count": null,
   "id": "2baf0771-a278-4b93-ad1c-81ec83eabcbd",
   "metadata": {},
   "outputs": [],
   "source": [
    "# Plot intensity time series\n",
    "fig, axs = plt.subplots(2, sharex=True)\n",
    "axs[0].plot(Wilma.time, Wilma.rate_wind * 3600)  # Convert to kn/h\n",
    "axs[1].plot(Wilma.time, Wilma.rate_slp * 3600)  # Convert to hPa/h\n",
    "axs[0].set_ylabel(\"kn/h\")\n",
    "axs[1].set_ylabel(\"hPa/h\")"
   ]
  }
 ],
 "metadata": {
  "kernelspec": {
   "display_name": "Python 3 (ipykernel)",
   "language": "python",
   "name": "python3"
  },
  "language_info": {
   "codemirror_mode": {
    "name": "ipython",
    "version": 3
   },
   "file_extension": ".py",
   "mimetype": "text/x-python",
   "name": "python",
   "nbconvert_exporter": "python",
   "pygments_lexer": "ipython3",
   "version": "3.11.12"
  }
 },
 "nbformat": 4,
 "nbformat_minor": 5
}
