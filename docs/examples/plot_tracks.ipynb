{
 "cells": [
  {
   "cell_type": "markdown",
   "id": "c5946fd4-514a-4fa8-829c-5ca39ffbdb32",
   "metadata": {},
   "source": [
    "# Plotting tracks with `plot_tracks_basic`"
   ]
  },
  {
   "cell_type": "code",
   "execution_count": null,
   "id": "4da15426-e1a5-4d67-9c0f-4de0db5d7137",
   "metadata": {},
   "outputs": [],
   "source": [
    "import huracanpy"
   ]
  },
  {
   "cell_type": "code",
   "execution_count": null,
   "id": "a8df03a7-d673-4f4a-b2e6-985b7cdee79c",
   "metadata": {},
   "outputs": [],
   "source": [
    "# Load the tracks\n",
    "tracks = huracanpy.load(huracanpy.example_year_file)"
   ]
  },
  {
   "cell_type": "code",
   "execution_count": null,
   "id": "cc97b46f-a917-499b-984c-de74cafe7ac9",
   "metadata": {},
   "outputs": [],
   "source": [
    "# Most basic visualisation of the dataset\n",
    "huracanpy.plot.tracks(tracks.lon, tracks.lat)"
   ]
  },
  {
   "cell_type": "code",
   "execution_count": null,
   "id": "642b47af-9a00-44ee-9b3e-33ca6e5ec319",
   "metadata": {},
   "outputs": [],
   "source": [
    "# Adding intensity coloring with `intensity_var`\n",
    "huracanpy.plot.tracks(tracks.lon, tracks.lat, intensity_var=tracks.wind10)"
   ]
  },
  {
   "cell_type": "code",
   "execution_count": null,
   "id": "100033a5-6e7c-42bc-833e-2130de1a2ed5",
   "metadata": {},
   "outputs": [],
   "source": [
    "# Changing projection (ex: Mollweide, will work with any Cartopy projection)\n",
    "import cartopy.crs as ccrs\n",
    "\n",
    "huracanpy.plot.tracks(\n",
    "    tracks.lon, tracks.lat, subplot_kws=dict(projection=ccrs.Mollweide(180))\n",
    ")"
   ]
  },
  {
   "cell_type": "code",
   "execution_count": null,
   "id": "57542bad-6aeb-4120-89a0-d6f2e5fd2989",
   "metadata": {},
   "outputs": [],
   "source": [
    "# Changing plot size\n",
    "huracanpy.plot.tracks(tracks.lon, tracks.lat, fig_kws=dict(figsize=(5, 5)))"
   ]
  },
  {
   "cell_type": "code",
   "execution_count": null,
   "id": "4fad8e1c-bfca-4553-9957-72ae42bce041",
   "metadata": {},
   "outputs": [],
   "source": [
    "# Use `scatter_kws` to customize the plot (using option from seaborn scatterplot)\n",
    "huracanpy.plot.tracks(\n",
    "    tracks.lon, tracks.lat, scatter_kws=dict(s=5, color=\"r\")\n",
    ")  # Have large red points\n",
    "huracanpy.plot.tracks(\n",
    "    tracks.lon, tracks.lat, scatter_kws=dict(size=tracks.wind10, size_norm=(25, 30))\n",
    ")  # Size per wind\n",
    "huracanpy.plot.tracks(\n",
    "    tracks.lon,\n",
    "    tracks.lat,\n",
    "    intensity_var=tracks.wind10,\n",
    "    scatter_kws=dict(palette=\"Reds\"),\n",
    ")  # Change palette"
   ]
  }
 ],
 "metadata": {
  "kernelspec": {
   "display_name": "Python 3 (ipykernel)",
   "language": "python",
   "name": "python3"
  },
  "language_info": {
   "codemirror_mode": {
    "name": "ipython",
    "version": 3
   },
   "file_extension": ".py",
   "mimetype": "text/x-python",
   "name": "python",
   "nbconvert_exporter": "python",
   "pygments_lexer": "ipython3",
   "version": "3.12.4"
  }
 },
 "nbformat": 4,
 "nbformat_minor": 5
}
