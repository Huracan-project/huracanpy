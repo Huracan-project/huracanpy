{
 "cells": [
  {
   "cell_type": "markdown",
   "id": "0661eec2-5a1d-41c4-9f7c-0b4955bb614e",
   "metadata": {},
   "source": [
    "# Basins"
   ]
  },
  {
   "cell_type": "code",
   "execution_count": null,
   "id": "3e6ffbc0-9131-4385-883f-b4b675b4e3b6",
   "metadata": {},
   "outputs": [],
   "source": [
    "from shapely import MultiPolygon\n",
    "import matplotlib.pyplot as plt\n",
    "\n",
    "import huracanpy"
   ]
  },
  {
   "cell_type": "code",
   "execution_count": null,
   "id": "c44cdf05-bdc3-4b5f-9ad4-f1d64988d465",
   "metadata": {},
   "outputs": [],
   "source": [
    "# Basins defined in huracanpy\n",
    "huracanpy.basins[\"WMO\"]"
   ]
  },
  {
   "cell_type": "code",
   "execution_count": null,
   "id": "a19bd1a0-986f-4c9e-b3c0-21864c114558",
   "metadata": {},
   "outputs": [],
   "source": [
    "# Plot basins\n",
    "# Default defined from 0-360.\n",
    "for n, (basin, geometry) in enumerate(huracanpy.basins[\"WMO\"].iterrows()):\n",
    "    # South Atlantic (SA) crosses dateline so is defined as two regions\n",
    "    if isinstance(geometry.geometry, MultiPolygon):\n",
    "        for geom in geometry.geometry.geoms:\n",
    "            x, y = geom.exterior.xy\n",
    "            plt.plot(x, y, color=f\"C{n}\")\n",
    "            x, y = geom.centroid.xy\n",
    "            plt.text(x[0], y[0], basin, color=f\"C{n}\", ha=\"center\", va=\"center\")\n",
    "    else:\n",
    "        plt.plot(*geometry.geometry.exterior.xy, color=f\"C{n}\")\n",
    "        x, y = geometry.geometry.centroid.xy\n",
    "        plt.text(x[0], y[0], basin, color=f\"C{n}\", ha=\"center\", va=\"center\")"
   ]
  },
  {
   "cell_type": "code",
   "execution_count": null,
   "id": "e2b60f9c-16e9-4d75-aa9c-a14346c78652",
   "metadata": {
    "editable": true,
    "slideshow": {
     "slide_type": ""
    },
    "tags": [
     "nbsphinx-thumbnail"
    ]
   },
   "outputs": [],
   "source": [
    "# Plot basins with Cartopy projections\n",
    "# Essentially the same as the previous panel\n",
    "\n",
    "from cartopy.crs import EqualEarth, Geodetic\n",
    "\n",
    "transform = Geodetic()\n",
    "\n",
    "for central_longitude in [0, 180]:\n",
    "    plt.figure()\n",
    "    ax = plt.axes(projection=EqualEarth(central_longitude=central_longitude))\n",
    "\n",
    "    for n, (basin, geometry) in enumerate(huracanpy.basins[\"WMO\"].iterrows()):\n",
    "        if isinstance(geometry.geometry, MultiPolygon):\n",
    "            for geom in geometry.geometry.geoms:\n",
    "                plt.plot(*geom.exterior.xy, color=f\"C{n}\", transform=transform)\n",
    "                x, y = geom.centroid.xy\n",
    "                plt.text(\n",
    "                    x[0],\n",
    "                    y[0],\n",
    "                    basin,\n",
    "                    color=f\"C{n}\",\n",
    "                    ha=\"center\",\n",
    "                    va=\"center\",\n",
    "                    transform=transform,\n",
    "                )\n",
    "        else:\n",
    "            plt.plot(*geometry.geometry.exterior.xy, color=f\"C{n}\", transform=transform)\n",
    "            x, y = geometry.geometry.centroid.xy\n",
    "            plt.text(\n",
    "                x[0],\n",
    "                y[0],\n",
    "                basin,\n",
    "                color=f\"C{n}\",\n",
    "                ha=\"center\",\n",
    "                va=\"center\",\n",
    "                transform=transform,\n",
    "            )\n",
    "\n",
    "    ax.coastlines()\n",
    "    ax.gridlines(draw_labels=[\"left\", \"bottom\"])"
   ]
  }
 ],
 "metadata": {
  "kernelspec": {
   "display_name": "Python 3 (ipykernel)",
   "language": "python",
   "name": "python3"
  },
  "language_info": {
   "codemirror_mode": {
    "name": "ipython",
    "version": 3
   },
   "file_extension": ".py",
   "mimetype": "text/x-python",
   "name": "python",
   "nbconvert_exporter": "python",
   "pygments_lexer": "ipython3",
   "version": "3.12.4"
  }
 },
 "nbformat": 4,
 "nbformat_minor": 5
}
